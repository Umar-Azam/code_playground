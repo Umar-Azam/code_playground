{
 "cells": [
  {
   "cell_type": "code",
   "execution_count": 1,
   "metadata": {},
   "outputs": [
    {
     "name": "stdout",
     "output_type": "stream",
     "text": [
      "graph\n"
     ]
    }
   ],
   "source": [
    "from graph import *\n"
   ]
  },
  {
   "cell_type": "code",
   "execution_count": 2,
   "metadata": {},
   "outputs": [],
   "source": [
    "new_graph = graph()"
   ]
  },
  {
   "cell_type": "code",
   "execution_count": 3,
   "metadata": {},
   "outputs": [
    {
     "name": "stdout",
     "output_type": "stream",
     "text": [
      "Node 0 created\n",
      "Node 1 created\n",
      "Node 2 created\n",
      "Node 3 created\n",
      "Node 4 created\n",
      "Node 5 created\n",
      "Node 6 created\n",
      "Node 7 created\n",
      "Node 8 created\n",
      "Node 9 created\n"
     ]
    }
   ],
   "source": [
    "for i in range(10):\n",
    "    new_graph.add_node(str(i))\n",
    "\n",
    "\n",
    "for i in range(9):\n",
    "    new_graph.add_edge(str(i), str(i+1))\n"
   ]
  },
  {
   "cell_type": "code",
   "execution_count": 4,
   "metadata": {},
   "outputs": [
    {
     "name": "stdout",
     "output_type": "stream",
     "text": [
      "0\n",
      "{'1'}\n",
      "1\n",
      "{'0', '2'}\n",
      "2\n",
      "{'1', '3'}\n",
      "3\n",
      "{'4', '2'}\n",
      "4\n",
      "{'5', '3'}\n",
      "5\n",
      "{'4', '6'}\n",
      "6\n",
      "{'7', '5'}\n",
      "7\n",
      "{'6', '8'}\n",
      "8\n",
      "{'9', '7'}\n",
      "9\n",
      "{'8'}\n"
     ]
    }
   ],
   "source": [
    "for node_id in new_graph.nodes.keys():\n",
    "    print(new_graph.get_node(node_id).name)\n",
    "    print(new_graph.get_node_neighbours(node_id))\n",
    "    "
   ]
  },
  {
   "cell_type": "code",
   "execution_count": 8,
   "metadata": {},
   "outputs": [
    {
     "name": "stdout",
     "output_type": "stream",
     "text": [
      "['5', '4', '3', '2']\n"
     ]
    }
   ],
   "source": [
    "print(new_graph.get_path('5', '2'))"
   ]
  },
  {
   "cell_type": "code",
   "execution_count": null,
   "metadata": {},
   "outputs": [],
   "source": []
  },
  {
   "cell_type": "code",
   "execution_count": null,
   "metadata": {},
   "outputs": [],
   "source": []
  }
 ],
 "metadata": {
  "kernelspec": {
   "display_name": "simgraph",
   "language": "python",
   "name": "python3"
  },
  "language_info": {
   "codemirror_mode": {
    "name": "ipython",
    "version": 3
   },
   "file_extension": ".py",
   "mimetype": "text/x-python",
   "name": "python",
   "nbconvert_exporter": "python",
   "pygments_lexer": "ipython3",
   "version": "3.10.16"
  }
 },
 "nbformat": 4,
 "nbformat_minor": 2
}
