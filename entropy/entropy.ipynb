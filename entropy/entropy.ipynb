{
 "cells": [
  {
   "cell_type": "code",
   "execution_count": 2,
   "metadata": {},
   "outputs": [],
   "source": [
    "import numpy as np\n",
    "import matplotlib.pyplot as plt"
   ]
  },
  {
   "cell_type": "code",
   "execution_count": 3,
   "metadata": {},
   "outputs": [
    {
     "name": "stdout",
     "output_type": "stream",
     "text": [
      "Generate an entropy increasing simulation for any arbitrary probability distribution\n"
     ]
    }
   ],
   "source": [
    "print(\"Generate an entropy increasing simulation for any arbitrary probability distribution\")"
   ]
  },
  {
   "cell_type": "code",
   "execution_count": 198,
   "metadata": {},
   "outputs": [],
   "source": [
    "def prob_states(n):\n",
    "    p = np.random.rand(n)\n",
    "    p = p/np.sum(p)\n",
    "    return p\n",
    "\n",
    "def probability_list(p : np.ndarray, index):\n",
    "    new_arr = np.zeros(shape=(index,*p.shape))\n",
    "    for i in range(index):\n",
    "        new_arr[i,...] = p\n",
    "    return new_arr\n",
    "\n",
    "def multidim_nudge(p):\n",
    "    epsilon = float(1/p.size) * (np.random.rand(*p.shape) - 0.5)\n",
    "    p = p + epsilon\n",
    "    p = p + float(1/p.size) * (p < 0)\n",
    "    p = p/np.sum(p)\n",
    "    return p\n",
    "\n",
    "def entropy(p):\n",
    "    return -np.sum(p*np.log(p))\n",
    "\n",
    "\n",
    "def p_variate(p,index):\n",
    "    p_variations = probability_list(p, index)\n",
    "    for i in range(index):\n",
    "        p_variations[i,...] = multidim_nudge(p)\n",
    "    return p_variations\n",
    "    \n",
    "def increased_entropy(p, index = 15, check = 6):\n",
    "    p_variation = p_variate(p, index)\n",
    "    entropies = [(i, entropy(p_variation[i,...])) for i in range(index)]\n",
    "    entropies.sort(key = lambda x : x[1])\n",
    "    increased_entropy_delta = np.zeros(shape = p.shape)\n",
    "    \n",
    "    for index,_ in entropies[-check:]:\n",
    "        increased_entropy_delta += p_variation[index,...] - p\n",
    "        \n",
    "    increased_entropy_delta = increased_entropy_delta/float(check)\n",
    "    p_increased = p + increased_entropy_delta\n",
    "    return p_increased/np.sum(p_increased)\n",
    "\n",
    "# calculate entropy and sort to find maximum increase over n number of tries"
   ]
  },
  {
   "cell_type": "code",
   "execution_count": 199,
   "metadata": {},
   "outputs": [
    {
     "name": "stdout",
     "output_type": "stream",
     "text": [
      "[0.10713656 0.12048377 0.1264192  0.0960491  0.09265791 0.02067643\n",
      " 0.11328461 0.0731063  0.11449416 0.13569194]\n"
     ]
    },
    {
     "data": {
      "text/plain": [
       "<BarContainer object of 10 artists>"
      ]
     },
     "execution_count": 199,
     "metadata": {},
     "output_type": "execute_result"
    },
    {
     "data": {
      "image/png": "[encoded data removed]",
      "text/plain": [
       "<Figure size 640x480 with 1 Axes>"
      ]
     },
     "metadata": {},
     "output_type": "display_data"
    }
   ],
   "source": [
    "a = prob_states(10)\n",
    "print(a)\n",
    "plt.bar(range(len(a)), a)"
   ]
  },
  {
   "cell_type": "code",
   "execution_count": 200,
   "metadata": {},
   "outputs": [
    {
     "name": "stdout",
     "output_type": "stream",
     "text": [
      "[0.123171   0.03131723 0.09406123 0.05259779 0.18332148 0.08309364\n",
      " 0.02493739 0.18982784 0.19995823 0.01771417]\n"
     ]
    }
   ],
   "source": [
    "# i,j,k = 4,5,6\n",
    "# p = np.random.rand(i,j,k)\n",
    "# p = p/np.sum(p)\n",
    "num = 10\n",
    "p = prob_states(num)\n",
    "print(p)\n"
   ]
  },
  {
   "cell_type": "code",
   "execution_count": null,
   "metadata": {},
   "outputs": [
    {
     "name": "stdout",
     "output_type": "stream",
     "text": [
      "0\n",
      "0\n",
      "1\n",
      "2\n",
      "3\n",
      "4\n",
      "5\n",
      "6\n",
      "7\n",
      "8\n",
      "9\n"
     ]
    }
   ],
   "source": [
    "from matplotlib.animation import FuncAnimation\n",
    "fig, ax = plt.subplots()\n",
    "frames = 10\n",
    "\n",
    "p = prob_states(num)\n",
    "p[5] = 1\n",
    "p = p/np.sum(p)\n",
    "\n",
    "def update(frame):\n",
    "    global p\n",
    "    print(frame)\n",
    "    ax.clear()\n",
    "    ax.bar(range(len(p)), p)\n",
    "    p = increased_entropy(p)\n",
    "    ax.set_ylim(-1,1)\n",
    "    ax.set_title(f\"Frame {frame}\")\n",
    "\n",
    "anim = FuncAnimation(fig, update, frames=frames, interval = 1)\n",
    "\n",
    "anim.save(\"animation.gif\", writer = \"pillow\")\n",
    "plt.close()"
   ]
  },
  {
   "cell_type": "code",
   "execution_count": null,
   "metadata": {},
   "outputs": [],
   "source": []
  },
  {
   "cell_type": "code",
   "execution_count": null,
   "metadata": {},
   "outputs": [],
   "source": []
  }
 ],
 "metadata": {
  "kernelspec": {
   "display_name": "testenv01",
   "language": "python",
   "name": "python3"
  },
  "language_info": {
   "codemirror_mode": {
    "name": "ipython",
    "version": 3
   },
   "file_extension": ".py",
   "mimetype": "text/x-python",
   "name": "python",
   "nbconvert_exporter": "python",
   "pygments_lexer": "ipython3",
   "version": "3.10.14"
  }
 },
 "nbformat": 4,
 "nbformat_minor": 2
}
