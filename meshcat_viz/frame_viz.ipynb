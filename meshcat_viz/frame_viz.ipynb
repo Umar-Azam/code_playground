{
 "cells": [
  {
   "cell_type": "code",
   "execution_count": 1,
   "metadata": {},
   "outputs": [],
   "source": [
    "import meshcat\n",
    "import numpy as np\n",
    "import meshcat.geometry as g\n",
    "import meshcat.transformations as tf\n",
    "import time\n",
    "from lie_group import *\n"
   ]
  },
  {
   "cell_type": "code",
   "execution_count": 2,
   "metadata": {},
   "outputs": [
    {
     "name": "stdout",
     "output_type": "stream",
     "text": [
      "You can open the visualizer by visiting the following URL:\n",
      "http://127.0.0.1:7000/static/\n"
     ]
    }
   ],
   "source": [
    "# Create a visualizer instance\n",
    "vis = meshcat.Visualizer().open()"
   ]
  },
  {
   "cell_type": "code",
   "execution_count": 3,
   "metadata": {},
   "outputs": [],
   "source": [
    "\n",
    "def frame_generator(input_visualizer : meshcat.Visualizer, input_frame_name : str, input_frame_transform : np.ndarray = np.eye(4)):\n",
    "    \"\"\"\n",
    "    Generate a frame in the visualizer\n",
    "    \"\"\"\n",
    "    # create meshcat geometry objects for cylinders pointing in the x,y,z directions\n",
    "    length = 0.5\n",
    "    radius = 0.02\n",
    "\n",
    "    x_cylinder = g.Cylinder(length, radius)\n",
    "    y_cylinder = g.Cylinder(length, radius)\n",
    "    z_cylinder = g.Cylinder(length, radius)\n",
    "\n",
    "    # Create rotations to align cylinders with x,y,z axes\n",
    "    Rx = tf.rotation_matrix(-np.pi/2, [0, 0, 1])  \n",
    "    Ry = tf.identity_matrix()  \n",
    "    Rz = tf.rotation_matrix(np.pi/2, [1, 0, 0])  \n",
    "\n",
    "    # Move cylinders to center\n",
    "    Rx[:3,3] = [length/2, 0, 0]\n",
    "    Ry[:3,3] = [0, length/2, 0]\n",
    "    Rz[:3,3] = [0, 0, length/2]\n",
    "\n",
    "\n",
    "    # visualize the arrows in the visualizer\n",
    "    input_visualizer[f\"{input_frame_name}/x_axis\"].set_object(x_cylinder, g.MeshLambertMaterial(color=0xff0000))\n",
    "    input_visualizer[f\"{input_frame_name}/y_axis\"].set_object(y_cylinder, g.MeshLambertMaterial(color=0x00ff00))\n",
    "    input_visualizer[f\"{input_frame_name}/z_axis\"].set_object(z_cylinder, g.MeshLambertMaterial(color=0x0000ff))\n",
    "\n",
    "    input_visualizer[f\"{input_frame_name}/x_axis\"].set_transform(input_frame_transform @ Rx)\n",
    "    input_visualizer[f\"{input_frame_name}/y_axis\"].set_transform(input_frame_transform @ Ry)\n",
    "    input_visualizer[f\"{input_frame_name}/z_axis\"].set_transform(input_frame_transform @ Rz)\n",
    "\n",
    "    return input_visualizer\n",
    "\n",
    "\n",
    "def vector_frame(vector : np.ndarray):\n",
    "    pass"
   ]
  },
  {
   "cell_type": "code",
   "execution_count": 4,
   "metadata": {},
   "outputs": [],
   "source": [
    "vis = frame_generator(vis, \"axes_a\")\n",
    "vis = frame_generator(vis, \"axes_a_b\")\n",
    "vis = frame_generator(vis, \"axes_a_c\")\n"
   ]
  },
  {
   "cell_type": "code",
   "execution_count": 5,
   "metadata": {},
   "outputs": [],
   "source": [
    "vis['axes_a_b'].set_transform(element_SE3([0,0,0],[0,2,2]))"
   ]
  },
  {
   "cell_type": "code",
   "execution_count": 8,
   "metadata": {},
   "outputs": [
    {
     "data": {
      "text/plain": [
       "array([[-0., -1.,  0., -2.],\n",
       "       [ 1., -0.,  0.,  0.],\n",
       "       [ 0.,  0.,  1.,  0.],\n",
       "       [ 0.,  0.,  0.,  1.]])"
      ]
     },
     "execution_count": 8,
     "metadata": {},
     "output_type": "execute_result"
    }
   ],
   "source": [
    "#Visualize adjoint using frames s,a,b,c\n",
    "element_SE3([0,0,np.pi/2],[-2,0,0])"
   ]
  },
  {
   "cell_type": "code",
   "execution_count": 18,
   "metadata": {},
   "outputs": [],
   "source": [
    "vis.set_transform(element_SE3([0,0,0],[0,0,0]))"
   ]
  },
  {
   "cell_type": "code",
   "execution_count": 10,
   "metadata": {},
   "outputs": [],
   "source": [
    "T = element_SE3([1,1,1],[1,1,1])\n",
    "R = rotation_matrix([0,0,np.pi/4])\n",
    "np.arccos((np.trace(R)-1)/2)"
   ]
  },
  {
   "cell_type": "code",
   "execution_count": null,
   "metadata": {},
   "outputs": [],
   "source": [
    "Arr = np.linspace(0,np.pi,100)\n",
    "for angle in Arr:\n",
    "    R = rotation_matrix([0,0,angle])\n",
    "    np.arccos((np.trace(R)-1)/2)\n",
    "    print(f'Angle : {angle} \\nAngle from trace : {np.arccos((np.trace(R)-1)/2)}\\n\\n')"
   ]
  },
  {
   "cell_type": "code",
   "execution_count": 14,
   "metadata": {},
   "outputs": [
    {
     "data": {
      "text/plain": [
       "array([[1., 0., 0.],\n",
       "       [0., 1., 0.],\n",
       "       [0., 0., 1.]])"
      ]
     },
     "execution_count": 14,
     "metadata": {},
     "output_type": "execute_result"
    }
   ],
   "source": [
    "R = rotation_matrix([1,2,3])\n",
    "theta = np.arccos((np.trace(R)-1)/2)\n",
    "gen_x = np.array([[0, 0, 0], [0, 0, 1], [0, -1, 0]]).T\n",
    "gen_y = np.array([[0, 0, -1], [0, 0, 0], [1, 0, 0]]).T\n",
    "gen_z = np.array([[0, 1, 0], [-1, 0, 0], [0, 0, 0]]).T\n",
    "\n",
    "W = [R]\n",
    "    "
   ]
  },
  {
   "cell_type": "code",
   "execution_count": 16,
   "metadata": {},
   "outputs": [],
   "source": [
    "anim = meshcat.animation.Animation()\n",
    "\n",
    "# Set initial frame (frame 0) to identity matrix\n",
    "with anim.at_frame(vis, 0) as frame:\n",
    "    frame[\"axes_a\"].set_transform(np.eye(4))\n",
    "\n",
    "# Set final frame (frame 30) to target transform T\n",
    "with anim.at_frame(vis, 30) as frame:\n",
    "    frame[\"axes_a\"].set_transform(T)\n",
    "    frame[\"axes_a_b\"].set_transform(np.eye(4))\n",
    "\n",
    "# Set final frame (frame 60) to target transform T\n",
    "with anim.at_frame(vis, 60) as frame:\n",
    "    frame[\"axes_a\"].set_transform(T @ T)\n",
    "    frame[\"axes2_a_b\"].set_transform(T)\n",
    "\n",
    "#anim.at_frame(vis, 90)[\"axes\"].set_transform(T @ T @ T)\n",
    "\n",
    "# Send the animation to the visualizer\n",
    "# Play it once with default settings\n",
    "vis.set_animation(anim)"
   ]
  },
  {
   "cell_type": "code",
   "execution_count": 34,
   "metadata": {},
   "outputs": [],
   "source": [
    "vis = frame_generator(vis, \"axes_a\")"
   ]
  },
  {
   "cell_type": "code",
   "execution_count": 33,
   "metadata": {},
   "outputs": [],
   "source": [
    "vis.delete()"
   ]
  },
  {
   "cell_type": "code",
   "execution_count": null,
   "metadata": {},
   "outputs": [],
   "source": []
  }
 ],
 "metadata": {
  "kernelspec": {
   "display_name": "meshcat_test",
   "language": "python",
   "name": "python3"
  },
  "language_info": {
   "codemirror_mode": {
    "name": "ipython",
    "version": 3
   },
   "file_extension": ".py",
   "mimetype": "text/x-python",
   "name": "python",
   "nbconvert_exporter": "python",
   "pygments_lexer": "ipython3",
   "version": "3.10.16"
  }
 },
 "nbformat": 4,
 "nbformat_minor": 2
}
