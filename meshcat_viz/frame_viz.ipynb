{
 "cells": [
  {
   "cell_type": "code",
   "execution_count": 1,
   "metadata": {},
   "outputs": [
    {
     "name": "stdout",
     "output_type": "stream",
     "text": [
      "You can open the visualizer by visiting the following URL:\n",
      "http://127.0.0.1:7002/static/\n"
     ]
    }
   ],
   "source": [
    "import meshcat\n",
    "import numpy as np\n",
    "import meshcat.geometry as g\n",
    "import meshcat.transformations as tf\n",
    "import time\n",
    "from lie_group import *\n",
    "# Create a visualizer instance\n",
    "vis = meshcat.Visualizer().open()"
   ]
  },
  {
   "cell_type": "code",
   "execution_count": 2,
   "metadata": {},
   "outputs": [],
   "source": [
    "\n",
    "def frame_generator(input_visualizer : meshcat.Visualizer, input_frame_name : str, input_frame_transform : np.ndarray = np.eye(4)):\n",
    "    \"\"\"\n",
    "    Generate a frame in the visualizer\n",
    "    \"\"\"\n",
    "    # create meshcat geometry objects for cylinders pointing in the x,y,z directions\n",
    "    length = 0.5\n",
    "    radius = 0.02\n",
    "\n",
    "    x_cylinder = g.Cylinder(length, radius)\n",
    "    y_cylinder = g.Cylinder(length, radius)\n",
    "    z_cylinder = g.Cylinder(length, radius)\n",
    "\n",
    "    # Create rotations to align cylinders with x,y,z axes\n",
    "    Rx = tf.rotation_matrix(-np.pi/2, [0, 0, 1])  \n",
    "    Ry = tf.identity_matrix()  \n",
    "    Rz = tf.rotation_matrix(np.pi/2, [1, 0, 0])  \n",
    "\n",
    "    # Move cylinders to center\n",
    "    Rx[:3,3] = [length/2, 0, 0]\n",
    "    Ry[:3,3] = [0, length/2, 0]\n",
    "    Rz[:3,3] = [0, 0, length/2]\n",
    "\n",
    "\n",
    "    # visualize the arrows in the visualizer\n",
    "    input_visualizer[f\"{input_frame_name}/x_axis\"].set_object(x_cylinder, g.MeshLambertMaterial(color=0xff0000))\n",
    "    input_visualizer[f\"{input_frame_name}/y_axis\"].set_object(y_cylinder, g.MeshLambertMaterial(color=0x00ff00))\n",
    "    input_visualizer[f\"{input_frame_name}/z_axis\"].set_object(z_cylinder, g.MeshLambertMaterial(color=0x0000ff))\n",
    "\n",
    "    input_visualizer[f\"{input_frame_name}/x_axis\"].set_transform(input_frame_transform @ Rx)\n",
    "    input_visualizer[f\"{input_frame_name}/y_axis\"].set_transform(input_frame_transform @ Ry)\n",
    "    input_visualizer[f\"{input_frame_name}/z_axis\"].set_transform(input_frame_transform @ Rz)\n",
    "\n",
    "    return input_visualizer"
   ]
  },
  {
   "cell_type": "code",
   "execution_count": 9,
   "metadata": {},
   "outputs": [],
   "source": [
    "vis = frame_generator(vis, \"axes_a\")\n",
    "vis = frame_generator(vis, \"axes_a_b\")\n",
    "vis = frame_generator(vis, \"axes_a_c\")\n"
   ]
  },
  {
   "cell_type": "code",
   "execution_count": 13,
   "metadata": {},
   "outputs": [],
   "source": [
    "vis['axes'].set_transform(element_SE3(0,0,np.pi/2,-2,0,0))"
   ]
  },
  {
   "cell_type": "code",
   "execution_count": 11,
   "metadata": {},
   "outputs": [],
   "source": []
  },
  {
   "cell_type": "code",
   "execution_count": null,
   "metadata": {},
   "outputs": [],
   "source": []
  }
 ],
 "metadata": {
  "kernelspec": {
   "display_name": "meshcat_test",
   "language": "python",
   "name": "python3"
  },
  "language_info": {
   "codemirror_mode": {
    "name": "ipython",
    "version": 3
   },
   "file_extension": ".py",
   "mimetype": "text/x-python",
   "name": "python",
   "nbconvert_exporter": "python",
   "pygments_lexer": "ipython3",
   "version": "3.10.16"
  }
 },
 "nbformat": 4,
 "nbformat_minor": 2
}
